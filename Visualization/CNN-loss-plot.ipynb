{
 "cells": [
  {
   "cell_type": "code",
   "execution_count": 1,
   "id": "197318ef",
   "metadata": {},
   "outputs": [],
   "source": [
    "import ipywidgets as widgets\n",
    "import pandas as pd\n",
    "import numpy as np\n",
    "import seaborn as sns\n",
    "import matplotlib.pyplot as plt\n",
    "sns.set()\n"
   ]
  },
  {
   "cell_type": "code",
   "execution_count": 9,
   "id": "dee9b5eb",
   "metadata": {},
   "outputs": [],
   "source": [
    "df_history=pd.read_csv('training_history.csv')\n",
    "data_cat=['Loss', 'Accuracy']\n",
    "epochs=range(1,len(df_history[df_history.columns[0]])+1)"
   ]
  },
  {
   "cell_type": "code",
   "execution_count": 10,
   "id": "3237ce94",
   "metadata": {},
   "outputs": [],
   "source": [
    "# DropDown widgets\n",
    "\n",
    "dd1_cat=widgets.Dropdown(options= data_cat, description='Category')\n",
    "ui=widgets.HBox([dd1_cat])"
   ]
  },
  {
   "cell_type": "code",
   "execution_count": 13,
   "id": "84a4ec0a",
   "metadata": {},
   "outputs": [
    {
     "data": {
      "application/vnd.jupyter.widget-view+json": {
       "model_id": "050327494b95431391bc9569e42a0ed0",
       "version_major": 2,
       "version_minor": 0
      },
      "text/plain": [
       "HBox(children=(Dropdown(description='Category', index=1, options=('Loss', 'Accuracy'), value='Accuracy'),))"
      ]
     },
     "metadata": {},
     "output_type": "display_data"
    },
    {
     "data": {
      "application/vnd.jupyter.widget-view+json": {
       "model_id": "18b88623049f4905a4dc3dc05daa40be",
       "version_major": 2,
       "version_minor": 0
      },
      "text/plain": [
       "Output()"
      ]
     },
     "metadata": {},
     "output_type": "display_data"
    }
   ],
   "source": [
    "# Interactive Plot\n",
    "def draw_Historyplot(column):\n",
    "    plt.figure(figsize=(16, 8))\n",
    "    if column=='Loss':\n",
    "        p=sns.lineplot(x=epochs, y=df_history['T-Loss'], color='r' )\n",
    "        sns.lineplot(data=df_history['V-Loss'], color=\"b\")\n",
    "        plt.ylabel('Loss')\n",
    "        plt.legend( ['Training','Validation'], loc='upper right') \n",
    "        \n",
    "        \n",
    "    else: \n",
    "        p=sns.lineplot(x=epochs, y=df_history['T-Acc'], color='r' )\n",
    "        sns.lineplot(data=df_history['V-Acc'], color=\"b\")\n",
    "        plt.ylabel('Accuracy')\n",
    "        plt.legend( ['Training','Validation'], loc='lower right') \n",
    "\n",
    "    plt.xlabel('Epochs')\n",
    "       \n",
    "        \n",
    "out = widgets.interactive_output(draw_Historyplot, {'column':dd1_cat})\n",
    "display(ui , out)"
   ]
  }
 ],
 "metadata": {
  "kernelspec": {
   "display_name": "Python 3 (ipykernel)",
   "language": "python",
   "name": "python3"
  },
  "language_info": {
   "codemirror_mode": {
    "name": "ipython",
    "version": 3
   },
   "file_extension": ".py",
   "mimetype": "text/x-python",
   "name": "python",
   "nbconvert_exporter": "python",
   "pygments_lexer": "ipython3",
   "version": "3.9.12"
  }
 },
 "nbformat": 4,
 "nbformat_minor": 5
}
