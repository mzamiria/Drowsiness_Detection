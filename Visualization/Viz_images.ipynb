{
 "cells": [
  {
   "cell_type": "code",
   "execution_count": null,
   "id": "3079cd38",
   "metadata": {},
   "outputs": [],
   "source": [
    "import ipywidgets as widgets\n",
    "import pandas as pd\n",
    "import numpy as np\n",
    "import seaborn as sns\n",
    "import matplotlib.pyplot as plt\n",
    "sns.set()"
   ]
  },
  {
   "cell_type": "code",
   "execution_count": 2,
   "id": "01c25e80",
   "metadata": {},
   "outputs": [],
   "source": [
    "df_eyes=pd.read_csv('eyes_stat.csv')"
   ]
  },
  {
   "cell_type": "code",
   "execution_count": 6,
   "id": "905b55a8",
   "metadata": {},
   "outputs": [],
   "source": [
    "##### categorical DropDown widgets\n",
    "\n",
    "dd1_cat=widgets.Dropdown(options= df_eyes.columns, value=df_eyes.columns[0], description='Category')\n",
    "\n",
    "dd2_cat=widgets.Dropdown(options= df_eyes.columns, value=df_eyes.columns[3], description='Hue')\n",
    "\n",
    "ui=widgets.HBox([dd1_cat,dd2_cat])"
   ]
  },
  {
   "cell_type": "code",
   "execution_count": 13,
   "id": "c154f1b8",
   "metadata": {},
   "outputs": [
    {
     "data": {
      "application/vnd.jupyter.widget-view+json": {
       "model_id": "404525aa860f4f4fb0177423ee2875c4",
       "version_major": 2,
       "version_minor": 0
      },
      "text/plain": [
       "HBox(children=(Dropdown(description='Category', options=('subject ID', 'gender [0:M, 1:F]', 'glasses [0:no, 1:…"
      ]
     },
     "metadata": {},
     "output_type": "display_data"
    },
    {
     "data": {
      "application/vnd.jupyter.widget-view+json": {
       "model_id": "6bfb3841d04e4d56b9977a82fed50a4b",
       "version_major": 2,
       "version_minor": 0
      },
      "text/plain": [
       "Output()"
      ]
     },
     "metadata": {},
     "output_type": "display_data"
    }
   ],
   "source": [
    "def draw_countplot(column,hue):\n",
    "    plt.figure(figsize=(16, 8))\n",
    "    \n",
    "    if df_eyes[column].dtype=='O' and len(df_eyes[column].unique()) > 4:\n",
    "        p=sns.countplot(data=df_eyes , x=column , hue=hue, hue_order = df_eyes[hue].value_counts().index , order = df_eyes[column].value_counts().index, palette=[\"C1\", \"C0\"])\n",
    "        p.set_xticklabels(p.get_xticklabels(), rotation=-45, horizontalalignment='left')\n",
    "    elif df_eyes[column].dtype=='O' and len(df_eyes[column].unique()) < 5:\n",
    "        p=sns.countplot(data=df_eyes , x=column , hue=hue,  hue_order = df_eyes[hue].value_counts().index, order = df_eyes[column].value_counts().index, palette=[\"C1\", \"C0\"])\n",
    "    elif df_eyes[column].dtype!='O':\n",
    "        p=sns.countplot(data=df_eyes , x=column , hue=hue, hue_order=df_eyes[hue].value_counts().index, palette=[\"C1\", \"C0\"])\n",
    "\n",
    "        \n",
    "    plt.legend(title=hue, loc='upper right')    \n",
    "        \n",
    "out = widgets.interactive_output(draw_countplot, {'column':dd1_cat, 'hue':dd2_cat})\n",
    "display(ui , out)"
   ]
  },
  {
   "cell_type": "code",
   "execution_count": null,
   "id": "ae11991f",
   "metadata": {},
   "outputs": [],
   "source": []
  }
 ],
 "metadata": {
  "kernelspec": {
   "display_name": "Python 3 (ipykernel)",
   "language": "python",
   "name": "python3"
  },
  "language_info": {
   "codemirror_mode": {
    "name": "ipython",
    "version": 3
   },
   "file_extension": ".py",
   "mimetype": "text/x-python",
   "name": "python",
   "nbconvert_exporter": "python",
   "pygments_lexer": "ipython3",
   "version": "3.9.7"
  }
 },
 "nbformat": 4,
 "nbformat_minor": 5
}
